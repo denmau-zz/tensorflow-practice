{
 "cells": [
  {
   "cell_type": "code",
   "execution_count": 1,
   "id": "chronic-factor",
   "metadata": {},
   "outputs": [],
   "source": [
    "# applying RNNs and LSTMs to time Series\n",
    "# its much more accurate\n",
    "# Lambda layers"
   ]
  },
  {
   "cell_type": "code",
   "execution_count": 4,
   "id": "hollywood-carpet",
   "metadata": {},
   "outputs": [
    {
     "name": "stdout",
     "output_type": "stream",
     "text": [
      "2.3.0\n",
      "1.19.2\n"
     ]
    }
   ],
   "source": [
    "import tensorflow as tf\n",
    "import numpy as np\n",
    "print(tf.__version__)\n",
    "print(np.__version__)"
   ]
  },
  {
   "cell_type": "raw",
   "id": "liberal-chinese",
   "metadata": {},
   "source": [
    "# An RNN is a Neural Network that contains Recurrent layers\n",
    "# An inputshape in an RNN is a 3D [batch size, #time steps, #dims(1 - univariant)]\n",
    "# TF assumes that the first parameter is the batch size size so you dont have to define it\n",
    "# return sequences true, \n",
    "# Lambda layers helps by enabling abitrary operations to expand functionality\n"
   ]
  },
  {
   "cell_type": "markdown",
   "id": "miniature-fiber",
   "metadata": {},
   "source": [
    "model = tf.keras.models.Sequential([\n",
    "    tf.keras.layers.Lambda(lambda x: tf.expand_dims(x, axis=-1), input_shape=[None]),\n",
    "    \n",
    "    # other layers\n",
    "    \n",
    "    tf.keras.layers.Lambda(lambda x: x * 100.0) # scaling the output by multiplying by 100\n",
    "])"
   ]
  },
  {
   "cell_type": "code",
   "execution_count": null,
   "id": "complicated-arabic",
   "metadata": {},
   "outputs": [],
   "source": [
    "# Full RNN\n",
    "train_set = windowed_dataset(x_train, window_size, batch_size = 128, shuffle_buffer = shuffle_buffer_size)\n",
    "\n",
    "model = tf.keras.models.Sequential([\n",
    "    tf.keras.layers.Lambda(lambda x: tf.expand_dims(x, axis=-1), input_shape = [None]),\n",
    "    tf.keras.layers.SimpleRNN(40, return_sequences=True),\n",
    "    tf.keras.layers.SimpleRNN(40),\n",
    "    tf.keras.layers.Dense(1),\n",
    "    tf.keras.layers.Lambda(lambda x : x * 100.0)\n",
    "])\n",
    "\n",
    "lr_schedule = tf.keras.callbacks.LearningRateSccheduler(lambda epoch:1e-8 * 10 **(epoch / 20))\n",
    "optimizer tf.keras.optimizers.SGD(lr=1e-8, momentum=0.9)\n",
    "\n",
    "model.compile(loss=tf.keras.losses.Huber(), # Huber is less sensitive to outliers\n",
    "             optimizer = optimizer,\n",
    "             metrics=[\"mae\"])\n",
    "\n",
    "history = model.fit(train_set, epochs=100, callbacks=[lr_schedule])"
   ]
  },
  {
   "cell_type": "code",
   "execution_count": null,
   "id": "stainless-throat",
   "metadata": {},
   "outputs": [],
   "source": [
    "# Using LSTM\n",
    "tf.keras.backend.clear_session() # clears any internal variables\n",
    "dataset = windowed_dataset(x_train, window_size, batch_size, shuffle_buffer_size)\n",
    "\n",
    "model = tf.keras.models.Sequential([\n",
    "    tf.keras.layers.Lambda(lambda x: tf.expand_dims(x, axis=-1), input_shape = [None]),\n",
    "    tf.keras.layers.Bidirectional(tf.keras.layers.LSTM(32), return_sequences=True), \n",
    "    # we have to return Sequences for the next LSTM layer to work\n",
    "    tf.keras.layers.Bidirectional(tf.keras.layers.LSTM(32)), # single LSTM layer with 32 cells\n",
    "    tf.keras.layers.Dense(1), # our prediction value\n",
    "    tf.keras.layers.Lambda(lambda x : x * 100.0)\n",
    "])\n",
    "\n",
    "model.compile(\n",
    "            loss=\"mse\", # Huber is less sensitive to outliers\n",
    "            optimizer = tf.keras.optimizers.SGD(lr=1e-6, momentum=0.9)\n",
    "            )\n",
    "\n",
    "model.fit(dataset, epochs=100, verbose=0)"
   ]
  },
  {
   "cell_type": "code",
   "execution_count": null,
   "id": "leading-ranking",
   "metadata": {},
   "outputs": [],
   "source": [
    "# Adding Convolutions before the Desne Layer\n"
   ]
  }
 ],
 "metadata": {
  "kernelspec": {
   "display_name": "Python 3",
   "language": "python",
   "name": "python3"
  },
  "language_info": {
   "codemirror_mode": {
    "name": "ipython",
    "version": 3
   },
   "file_extension": ".py",
   "mimetype": "text/x-python",
   "name": "python",
   "nbconvert_exporter": "python",
   "pygments_lexer": "ipython3",
   "version": "3.8.8"
  }
 },
 "nbformat": 4,
 "nbformat_minor": 5
}
