{
  "nbformat": 4,
  "nbformat_minor": 0,
  "metadata": {
    "colab": {
      "name": "celcious-to-fahrenheit.ipynbo",
      "provenance": [],
      "authorship_tag": "ABX9TyOwdRmKTRec2wdYjpzPqN9R",
      "include_colab_link": true
    },
    "kernelspec": {
      "name": "python3",
      "display_name": "Python 3"
    },
    "accelerator": "GPU"
  },
  "cells": [
    {
      "cell_type": "markdown",
      "metadata": {
        "id": "view-in-github",
        "colab_type": "text"
      },
      "source": [
        "<a href=\"https://colab.research.google.com/github/denmau/tensorflow-practice/blob/main/celcious_to_fahrenheit_ipynbo.ipynb\" target=\"_parent\"><img src=\"https://colab.research.google.com/assets/colab-badge.svg\" alt=\"Open In Colab\"/></a>"
      ]
    },
    {
      "cell_type": "markdown",
      "metadata": {
        "id": "-exU6Be2fwvZ"
      },
      "source": [
        "import Tensorflow and Numpy\r\n"
      ]
    },
    {
      "cell_type": "code",
      "metadata": {
        "id": "-dwMSitdfnVC"
      },
      "source": [
        "import tensorflow as tf\r\n",
        "import numpy as np"
      ],
      "execution_count": 1,
      "outputs": []
    },
    {
      "cell_type": "markdown",
      "metadata": {
        "id": "vKJ56hgTgKVW"
      },
      "source": [
        "# We will create 2 numpy arrays for storing celcious and fahrenheits data"
      ]
    },
    {
      "cell_type": "code",
      "metadata": {
        "colab": {
          "base_uri": "https://localhost:8080/"
        },
        "id": "RlKk4GzsgHLd",
        "outputId": "2e7ea93b-65e6-4a74-afc7-28d41c8de331"
      },
      "source": [
        "celcious = np.array([-40, -10,  0,  8, 15, 22,  38],  dtype=float)\r\n",
        "fahrenheit = np.array([-40,  14, 32, 46, 59, 72, 100] , dtype=float)\r\n",
        "\r\n",
        "# print our features\r\n",
        "for index,c in enumerate(celcious):\r\n",
        "  print(f'celcious: {c} - fahrenheit :  {fahrenheit[index]}')"
      ],
      "execution_count": 2,
      "outputs": [
        {
          "output_type": "stream",
          "text": [
            "celcious: -40.0 - fahrenheit :  -40.0\n",
            "celcious: -10.0 - fahrenheit :  14.0\n",
            "celcious: 0.0 - fahrenheit :  32.0\n",
            "celcious: 8.0 - fahrenheit :  46.0\n",
            "celcious: 15.0 - fahrenheit :  59.0\n",
            "celcious: 22.0 - fahrenheit :  72.0\n",
            "celcious: 38.0 - fahrenheit :  100.0\n"
          ],
          "name": "stdout"
        }
      ]
    },
    {
      "cell_type": "markdown",
      "metadata": {
        "id": "vd8-1O9zhqty"
      },
      "source": [
        "Create the model"
      ]
    },
    {
      "cell_type": "code",
      "metadata": {
        "id": "-LJfc7-AhpF6"
      },
      "source": [
        "model = tf.keras.Sequential([\r\n",
        "  tf.keras.layers.Dense(units=4, input_shape=[1]),\r\n",
        "  tf.keras.layers.Dense(units=4),\r\n",
        "  tf.keras.layers.Dense(units=1)\r\n",
        "])"
      ],
      "execution_count": 3,
      "outputs": []
    },
    {
      "cell_type": "markdown",
      "metadata": {
        "id": "_gYMTsm0kLub"
      },
      "source": [
        "Compile model"
      ]
    },
    {
      "cell_type": "code",
      "metadata": {
        "id": "bidZgANskPE4"
      },
      "source": [
        "model.compile(loss='mean_squared_error',\r\n",
        "              optimizer=tf.keras.optimizers.Adam(0.1))"
      ],
      "execution_count": 4,
      "outputs": []
    },
    {
      "cell_type": "markdown",
      "metadata": {
        "id": "Pev7L8vtmLC2"
      },
      "source": [
        "Train the model"
      ]
    },
    {
      "cell_type": "code",
      "metadata": {
        "colab": {
          "base_uri": "https://localhost:8080/"
        },
        "id": "Mug26df5mMxv",
        "outputId": "92e39504-48d3-423d-bfbb-cacf8a13bd73"
      },
      "source": [
        "history = model.fit(celcious, fahrenheit, epochs=500, verbose=0)\r\n",
        "print('Finished training the model')"
      ],
      "execution_count": 5,
      "outputs": [
        {
          "output_type": "stream",
          "text": [
            "Finished training the model\n"
          ],
          "name": "stdout"
        }
      ]
    },
    {
      "cell_type": "code",
      "metadata": {
        "id": "5YdpNRl2pqUz",
        "outputId": "cd5554e4-a719-4d7a-c39f-3a82a4a5556b",
        "colab": {
          "base_uri": "https://localhost:8080/",
          "height": 285
        }
      },
      "source": [
        "# Display trainig statistics\r\n",
        "import matplotlib.pyplot as plt\r\n",
        "# plt.xlabel('Epoch Number')\r\n",
        "plt.ylabel(\"Loss Magnitude\")\r\n",
        "plt.plot(history.history['loss'])"
      ],
      "execution_count": 6,
      "outputs": [
        {
          "output_type": "execute_result",
          "data": {
            "text/plain": [
              "[<matplotlib.lines.Line2D at 0x7ff93d42ce48>]"
            ]
          },
          "metadata": {
            "tags": []
          },
          "execution_count": 6
        },
        {
          "output_type": "display_data",
          "data": {
            "image/png": "[encoded data removed]",
            "text/plain": [
              "<Figure size 432x288 with 1 Axes>"
            ]
          },
          "metadata": {
            "tags": [],
            "needs_background": "light"
          }
        }
      ]
    },
    {
      "cell_type": "code",
      "metadata": {
        "id": "KDnLZ7EsrYjy",
        "outputId": "c0dccd84-86bf-4a59-a6a3-83e9ec71c3eb",
        "colab": {
          "base_uri": "https://localhost:8080/"
        }
      },
      "source": [
        "#use model to predict\r\n",
        "# 100 degrees celcious equal 212 degrees fahrenheits\r\n",
        "\r\n",
        "model.predict([100.00])"
      ],
      "execution_count": 7,
      "outputs": [
        {
          "output_type": "execute_result",
          "data": {
            "text/plain": [
              "array([[211.74744]], dtype=float32)"
            ]
          },
          "metadata": {
            "tags": []
          },
          "execution_count": 7
        }
      ]
    }
  ]
}